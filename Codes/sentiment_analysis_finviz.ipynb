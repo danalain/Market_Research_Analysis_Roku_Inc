{
 "cells": [
  {
   "cell_type": "markdown",
   "metadata": {},
   "source": [
    "# Sentiment Analysis using Article Headlines from FinViz.com"
   ]
  },
  {
   "cell_type": "code",
   "execution_count": 1,
   "metadata": {},
   "outputs": [],
   "source": [
    "from urllib.request import urlopen, Request\n",
    "from bs4 import BeautifulSoup"
   ]
  },
  {
   "cell_type": "code",
   "execution_count": 2,
   "metadata": {},
   "outputs": [],
   "source": [
    "# Create a URL string and a list of tickers\n",
    "finviz_url = \"https://www.finviz.com/quote.ashx?t=\"\n",
    "tickers = [\"ROKU\"]\n",
    "\n",
    "news_tables = {} \n",
    "\n",
    "# Loop through the tickers to combine with the URL to make one string representing a completed URL\n",
    "for ticker in tickers:\n",
    "    url = finviz_url + ticker\n",
    "    \n",
    "    # Request the data from URL (specify the user agent for headers)\n",
    "    request = Request(url=url, headers={'user-agent': 'my-app'})\n",
    "    response = urlopen(request)\n",
    "    \n",
    "    # Input the response data into BeautifulSoup specifying parse as html\n",
    "    html = BeautifulSoup(response, 'html')\n",
    "    \n",
    "    # Get the HTML objects of the table that contain the article headlines and assign to each ticker in the dictionary\n",
    "    news_table = html.find(id = 'news-table')\n",
    "    news_tables[ticker] = news_table"
   ]
  },
  {
   "cell_type": "code",
   "execution_count": 3,
   "metadata": {},
   "outputs": [],
   "source": [
    "parsed_data = []\n",
    "\n",
    "for ticker, news_table in news_tables.items():\n",
    "    \n",
    "    # Getting all the tr elements from each row of the news_tables dictionary\n",
    "    for row in news_table.findAll('tr'):\n",
    "        # Get titles in the tag <a ...> \n",
    "        title = row.a.text\n",
    "        # Split the text of date and time based on a space\n",
    "        date_data = row.td.text.split(' ')\n",
    "        # If the lenth of date_data is 1 then it is time. If the length is 2, first is date and second is time.\n",
    "        if len(date_data) == 1:\n",
    "            time = date_data[0]\n",
    "        else:\n",
    "            date = date_data[0]\n",
    "            time = date_data[1]\n",
    "        # Append the ticker, date, time, and title that results in a list of list inside the parsed_data\n",
    "        parsed_data.append([ticker, date, time, title])\n",
    "\n",
    "# print(parsed_data) "
   ]
  },
  {
   "cell_type": "code",
   "execution_count": 4,
   "metadata": {},
   "outputs": [],
   "source": [
    "# Import Pandas & Natural Language Toolkit Library\n",
    "import pandas as pd\n",
    "import nltk\n",
    "from nltk.sentiment.vader import SentimentIntensityAnalyzer"
   ]
  },
  {
   "cell_type": "code",
   "execution_count": 5,
   "metadata": {},
   "outputs": [
    {
     "data": {
      "text/html": [
       "<div>\n",
       "<style scoped>\n",
       "    .dataframe tbody tr th:only-of-type {\n",
       "        vertical-align: middle;\n",
       "    }\n",
       "\n",
       "    .dataframe tbody tr th {\n",
       "        vertical-align: top;\n",
       "    }\n",
       "\n",
       "    .dataframe thead th {\n",
       "        text-align: right;\n",
       "    }\n",
       "</style>\n",
       "<table border=\"1\" class=\"dataframe\">\n",
       "  <thead>\n",
       "    <tr style=\"text-align: right;\">\n",
       "      <th></th>\n",
       "      <th>ticker</th>\n",
       "      <th>date</th>\n",
       "      <th>time</th>\n",
       "      <th>title</th>\n",
       "    </tr>\n",
       "  </thead>\n",
       "  <tbody>\n",
       "    <tr>\n",
       "      <th>0</th>\n",
       "      <td>ROKU</td>\n",
       "      <td>Jan-22-21</td>\n",
       "      <td>02:10PM</td>\n",
       "      <td>Magnite (MGNI) Extends Rally After Price Targe...</td>\n",
       "    </tr>\n",
       "    <tr>\n",
       "      <th>1</th>\n",
       "      <td>ROKU</td>\n",
       "      <td>Jan-21-21</td>\n",
       "      <td>05:51PM</td>\n",
       "      <td>Netflix Joins Ranks Of Stocks With 95-Plus Com...</td>\n",
       "    </tr>\n",
       "    <tr>\n",
       "      <th>2</th>\n",
       "      <td>ROKU</td>\n",
       "      <td>Jan-20-21</td>\n",
       "      <td>06:44AM</td>\n",
       "      <td>Why Netflix stock is going haywire after its l...</td>\n",
       "    </tr>\n",
       "    <tr>\n",
       "      <th>3</th>\n",
       "      <td>ROKU</td>\n",
       "      <td>Jan-19-21</td>\n",
       "      <td>01:55PM</td>\n",
       "      <td>Why Roku Could Still Have 'Significant' Advert...</td>\n",
       "    </tr>\n",
       "    <tr>\n",
       "      <th>4</th>\n",
       "      <td>ROKU</td>\n",
       "      <td>Jan-19-21</td>\n",
       "      <td>11:47AM</td>\n",
       "      <td>Roku (ROKU) Makes Highs on Bullish JPMorgan In...</td>\n",
       "    </tr>\n",
       "  </tbody>\n",
       "</table>\n",
       "</div>"
      ],
      "text/plain": [
       "  ticker       date       time  \\\n",
       "0   ROKU  Jan-22-21  02:10PM     \n",
       "1   ROKU  Jan-21-21  05:51PM     \n",
       "2   ROKU  Jan-20-21  06:44AM     \n",
       "3   ROKU  Jan-19-21  01:55PM     \n",
       "4   ROKU  Jan-19-21  11:47AM     \n",
       "\n",
       "                                               title  \n",
       "0  Magnite (MGNI) Extends Rally After Price Targe...  \n",
       "1  Netflix Joins Ranks Of Stocks With 95-Plus Com...  \n",
       "2  Why Netflix stock is going haywire after its l...  \n",
       "3  Why Roku Could Still Have 'Significant' Advert...  \n",
       "4  Roku (ROKU) Makes Highs on Bullish JPMorgan In...  "
      ]
     },
     "execution_count": 5,
     "metadata": {},
     "output_type": "execute_result"
    }
   ],
   "source": [
    "df = pd.DataFrame(parsed_data, columns=['ticker', 'date', 'time', 'title'])\n",
    "df.head()"
   ]
  },
  {
   "cell_type": "code",
   "execution_count": 6,
   "metadata": {},
   "outputs": [],
   "source": [
    "# Initialize the VADER sentiment analyzer\n",
    "analyzer = SentimentIntensityAnalyzer()"
   ]
  },
  {
   "cell_type": "code",
   "execution_count": 7,
   "metadata": {},
   "outputs": [
    {
     "data": {
      "text/html": [
       "<div>\n",
       "<style scoped>\n",
       "    .dataframe tbody tr th:only-of-type {\n",
       "        vertical-align: middle;\n",
       "    }\n",
       "\n",
       "    .dataframe tbody tr th {\n",
       "        vertical-align: top;\n",
       "    }\n",
       "\n",
       "    .dataframe thead th {\n",
       "        text-align: right;\n",
       "    }\n",
       "</style>\n",
       "<table border=\"1\" class=\"dataframe\">\n",
       "  <thead>\n",
       "    <tr style=\"text-align: right;\">\n",
       "      <th></th>\n",
       "      <th>ticker</th>\n",
       "      <th>date</th>\n",
       "      <th>time</th>\n",
       "      <th>title</th>\n",
       "      <th>compound</th>\n",
       "    </tr>\n",
       "  </thead>\n",
       "  <tbody>\n",
       "    <tr>\n",
       "      <th>0</th>\n",
       "      <td>ROKU</td>\n",
       "      <td>2021-01-22</td>\n",
       "      <td>02:10PM</td>\n",
       "      <td>Magnite (MGNI) Extends Rally After Price Targe...</td>\n",
       "      <td>0.4939</td>\n",
       "    </tr>\n",
       "    <tr>\n",
       "      <th>1</th>\n",
       "      <td>ROKU</td>\n",
       "      <td>2021-01-21</td>\n",
       "      <td>05:51PM</td>\n",
       "      <td>Netflix Joins Ranks Of Stocks With 95-Plus Com...</td>\n",
       "      <td>0.0000</td>\n",
       "    </tr>\n",
       "    <tr>\n",
       "      <th>2</th>\n",
       "      <td>ROKU</td>\n",
       "      <td>2021-01-20</td>\n",
       "      <td>06:44AM</td>\n",
       "      <td>Why Netflix stock is going haywire after its l...</td>\n",
       "      <td>0.0000</td>\n",
       "    </tr>\n",
       "    <tr>\n",
       "      <th>3</th>\n",
       "      <td>ROKU</td>\n",
       "      <td>2021-01-19</td>\n",
       "      <td>01:55PM</td>\n",
       "      <td>Why Roku Could Still Have 'Significant' Advert...</td>\n",
       "      <td>0.3818</td>\n",
       "    </tr>\n",
       "    <tr>\n",
       "      <th>4</th>\n",
       "      <td>ROKU</td>\n",
       "      <td>2021-01-19</td>\n",
       "      <td>11:47AM</td>\n",
       "      <td>Roku (ROKU) Makes Highs on Bullish JPMorgan In...</td>\n",
       "      <td>0.0000</td>\n",
       "    </tr>\n",
       "  </tbody>\n",
       "</table>\n",
       "</div>"
      ],
      "text/plain": [
       "  ticker        date       time  \\\n",
       "0   ROKU  2021-01-22  02:10PM     \n",
       "1   ROKU  2021-01-21  05:51PM     \n",
       "2   ROKU  2021-01-20  06:44AM     \n",
       "3   ROKU  2021-01-19  01:55PM     \n",
       "4   ROKU  2021-01-19  11:47AM     \n",
       "\n",
       "                                               title  compound  \n",
       "0  Magnite (MGNI) Extends Rally After Price Targe...    0.4939  \n",
       "1  Netflix Joins Ranks Of Stocks With 95-Plus Com...    0.0000  \n",
       "2  Why Netflix stock is going haywire after its l...    0.0000  \n",
       "3  Why Roku Could Still Have 'Significant' Advert...    0.3818  \n",
       "4  Roku (ROKU) Makes Highs on Bullish JPMorgan In...    0.0000  "
      ]
     },
     "execution_count": 7,
     "metadata": {},
     "output_type": "execute_result"
    }
   ],
   "source": [
    "f = lambda title: analyzer.polarity_scores(title)['compound']\n",
    "df['compound'] = df['title'].apply(f)\n",
    "df['date'] = pd.to_datetime(df.date).dt.date\n",
    "df.head()"
   ]
  },
  {
   "cell_type": "code",
   "execution_count": 8,
   "metadata": {},
   "outputs": [],
   "source": [
    "df.to_csv(\"../Data/roku_sentiment_finviz.csv\", index=False)"
   ]
  }
 ],
 "metadata": {
  "kernelspec": {
   "display_name": "Python (mlenv)",
   "language": "python",
   "name": "mlenv"
  },
  "language_info": {
   "codemirror_mode": {
    "name": "ipython",
    "version": 3
   },
   "file_extension": ".py",
   "mimetype": "text/x-python",
   "name": "python",
   "nbconvert_exporter": "python",
   "pygments_lexer": "ipython3",
   "version": "3.7.9"
  }
 },
 "nbformat": 4,
 "nbformat_minor": 4
}
