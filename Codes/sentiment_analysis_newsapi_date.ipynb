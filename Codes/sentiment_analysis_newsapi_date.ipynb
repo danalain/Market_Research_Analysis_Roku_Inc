{
 "cells": [
  {
   "cell_type": "markdown",
   "metadata": {},
   "source": [
    "# News API Sentiment Analysis"
   ]
  },
  {
   "cell_type": "code",
   "execution_count": 1,
   "metadata": {},
   "outputs": [],
   "source": [
    "import os\n",
    "import pandas as pd\n",
    "from datetime import datetime, timedelta"
   ]
  },
  {
   "cell_type": "code",
   "execution_count": 2,
   "metadata": {},
   "outputs": [],
   "source": [
    "# Import News API and Natural Language Toolkit\n",
    "from newsapi.newsapi_client import NewsApiClient\n",
    "from nltk.sentiment.vader import SentimentIntensityAnalyzer"
   ]
  },
  {
   "cell_type": "markdown",
   "metadata": {},
   "source": [
    "## Load APIs"
   ]
  },
  {
   "cell_type": "code",
   "execution_count": 3,
   "metadata": {},
   "outputs": [
    {
     "data": {
      "text/plain": [
       "True"
      ]
     },
     "execution_count": 3,
     "metadata": {},
     "output_type": "execute_result"
    }
   ],
   "source": [
    "from dotenv import load_dotenv\n",
    "load_dotenv()"
   ]
  },
  {
   "cell_type": "code",
   "execution_count": 4,
   "metadata": {},
   "outputs": [],
   "source": [
    "newsapi = NewsApiClient(api_key=os.environ[\"news_api\"])"
   ]
  },
  {
   "cell_type": "markdown",
   "metadata": {},
   "source": [
    "## Create Headline and Sentiment Analyzer Functions"
   ]
  },
  {
   "cell_type": "code",
   "execution_count": 5,
   "metadata": {},
   "outputs": [],
   "source": [
    "# Set current date and the date from one month ago using the ISO format\n",
    "current_date = pd.Timestamp(\"2021-01-18\", tz=\"America/New_York\").isoformat()\n",
    "past_date = pd.Timestamp(\"2020-12-18\", tz=\"America/New_York\").isoformat()\n",
    "\n",
    "# Use newsapi client to get most relevant 20 headlines per day in the past month\n",
    "def get_headlines(keyword):\n",
    "    all_headlines = []\n",
    "    all_dates = []    \n",
    "    date = datetime.strptime(current_date[:10], \"%Y-%m-%d\")\n",
    "    end_date = datetime.strptime(past_date[:10], \"%Y-%m-%d\")\n",
    "    print(f\"Fetching news about '{keyword}'\")\n",
    "    print(\"*\" * 30)\n",
    "    while date > end_date:\n",
    "        print(f\"retrieving news from: {date}\")\n",
    "        articles = newsapi.get_everything(\n",
    "            q=keyword,\n",
    "            from_param=str(date),\n",
    "            to=str(date),\n",
    "            language=\"en\",\n",
    "            sort_by=\"relevancy\",\n",
    "            page=1,\n",
    "        )\n",
    "        headlines = []\n",
    "        for i in range(0, len(articles[\"articles\"])):\n",
    "            headlines.append(articles[\"articles\"][i][\"title\"])\n",
    "        all_headlines.append(headlines)\n",
    "        all_dates.append(date)\n",
    "        date = date - timedelta(days=1)\n",
    "    return all_headlines, all_dates"
   ]
  },
  {
   "cell_type": "code",
   "execution_count": 6,
   "metadata": {},
   "outputs": [],
   "source": [
    "# Instantiate Sentiment Analyzer\n",
    "analyzer = SentimentIntensityAnalyzer()"
   ]
  },
  {
   "cell_type": "code",
   "execution_count": 7,
   "metadata": {},
   "outputs": [
    {
     "name": "stdout",
     "output_type": "stream",
     "text": [
      "Fetching news about 'roku'\n",
      "******************************\n",
      "retrieving news from: 2021-01-18 00:00:00\n",
      "retrieving news from: 2021-01-17 00:00:00\n",
      "retrieving news from: 2021-01-16 00:00:00\n",
      "retrieving news from: 2021-01-15 00:00:00\n",
      "retrieving news from: 2021-01-14 00:00:00\n",
      "retrieving news from: 2021-01-13 00:00:00\n",
      "retrieving news from: 2021-01-12 00:00:00\n",
      "retrieving news from: 2021-01-11 00:00:00\n",
      "retrieving news from: 2021-01-10 00:00:00\n",
      "retrieving news from: 2021-01-09 00:00:00\n",
      "retrieving news from: 2021-01-08 00:00:00\n",
      "retrieving news from: 2021-01-07 00:00:00\n",
      "retrieving news from: 2021-01-06 00:00:00\n",
      "retrieving news from: 2021-01-05 00:00:00\n",
      "retrieving news from: 2021-01-04 00:00:00\n",
      "retrieving news from: 2021-01-03 00:00:00\n",
      "retrieving news from: 2021-01-02 00:00:00\n",
      "retrieving news from: 2021-01-01 00:00:00\n",
      "retrieving news from: 2020-12-31 00:00:00\n",
      "retrieving news from: 2020-12-30 00:00:00\n",
      "retrieving news from: 2020-12-29 00:00:00\n",
      "retrieving news from: 2020-12-28 00:00:00\n",
      "retrieving news from: 2020-12-27 00:00:00\n",
      "retrieving news from: 2020-12-26 00:00:00\n",
      "retrieving news from: 2020-12-25 00:00:00\n",
      "retrieving news from: 2020-12-24 00:00:00\n",
      "retrieving news from: 2020-12-23 00:00:00\n",
      "retrieving news from: 2020-12-22 00:00:00\n",
      "retrieving news from: 2020-12-21 00:00:00\n",
      "retrieving news from: 2020-12-20 00:00:00\n",
      "retrieving news from: 2020-12-19 00:00:00\n"
     ]
    }
   ],
   "source": [
    "roku_headlines, roku_dates = get_headlines(\"roku\")"
   ]
  },
  {
   "cell_type": "code",
   "execution_count": 8,
   "metadata": {},
   "outputs": [],
   "source": [
    "# Create function that computes average compound sentiment of headlines for each day\n",
    "def headline_sentiment_summarizer_avg(headlines):\n",
    "    sentiment = []\n",
    "    for day in headlines:\n",
    "        day_score = []\n",
    "        for h in day:\n",
    "            if h == None:\n",
    "                continue\n",
    "            else:\n",
    "                day_score.append(analyzer.polarity_scores(h)[\"compound\"])\n",
    "        sentiment.append(sum(day_score) / len(day_score))\n",
    "    return sentiment"
   ]
  },
  {
   "cell_type": "code",
   "execution_count": 9,
   "metadata": {},
   "outputs": [],
   "source": [
    "# Calculate Roku's average compound sentiment scores for each day\n",
    "roku_avg = headline_sentiment_summarizer_avg(roku_headlines)"
   ]
  },
  {
   "cell_type": "code",
   "execution_count": 10,
   "metadata": {},
   "outputs": [
    {
     "data": {
      "text/html": [
       "<div>\n",
       "<style scoped>\n",
       "    .dataframe tbody tr th:only-of-type {\n",
       "        vertical-align: middle;\n",
       "    }\n",
       "\n",
       "    .dataframe tbody tr th {\n",
       "        vertical-align: top;\n",
       "    }\n",
       "\n",
       "    .dataframe thead th {\n",
       "        text-align: right;\n",
       "    }\n",
       "</style>\n",
       "<table border=\"1\" class=\"dataframe\">\n",
       "  <thead>\n",
       "    <tr style=\"text-align: right;\">\n",
       "      <th></th>\n",
       "      <th>Avg_Score</th>\n",
       "    </tr>\n",
       "  </thead>\n",
       "  <tbody>\n",
       "    <tr>\n",
       "      <th>2021-01-18</th>\n",
       "      <td>0.084930</td>\n",
       "    </tr>\n",
       "    <tr>\n",
       "      <th>2021-01-17</th>\n",
       "      <td>0.150815</td>\n",
       "    </tr>\n",
       "    <tr>\n",
       "      <th>2021-01-16</th>\n",
       "      <td>-0.171510</td>\n",
       "    </tr>\n",
       "    <tr>\n",
       "      <th>2021-01-15</th>\n",
       "      <td>0.029270</td>\n",
       "    </tr>\n",
       "    <tr>\n",
       "      <th>2021-01-14</th>\n",
       "      <td>0.212850</td>\n",
       "    </tr>\n",
       "  </tbody>\n",
       "</table>\n",
       "</div>"
      ],
      "text/plain": [
       "            Avg_Score\n",
       "2021-01-18   0.084930\n",
       "2021-01-17   0.150815\n",
       "2021-01-16  -0.171510\n",
       "2021-01-15   0.029270\n",
       "2021-01-14   0.212850"
      ]
     },
     "execution_count": 10,
     "metadata": {},
     "output_type": "execute_result"
    }
   ],
   "source": [
    "roku_sentiment_df = pd.DataFrame({ \"Avg_Score\" : roku_avg })\n",
    "roku_sentiment_df.index = pd.to_datetime(roku_dates)\n",
    "roku_sentiment_df.head()"
   ]
  },
  {
   "cell_type": "code",
   "execution_count": 11,
   "metadata": {},
   "outputs": [],
   "source": [
    "roku_sentiment_df.to_csv(\"../Data/roku_newsapi_date.csv\")"
   ]
  }
 ],
 "metadata": {
  "kernelspec": {
   "display_name": "Python (mlenv)",
   "language": "python",
   "name": "mlenv"
  },
  "language_info": {
   "codemirror_mode": {
    "name": "ipython",
    "version": 3
   },
   "file_extension": ".py",
   "mimetype": "text/x-python",
   "name": "python",
   "nbconvert_exporter": "python",
   "pygments_lexer": "ipython3",
   "version": "3.7.9"
  }
 },
 "nbformat": 4,
 "nbformat_minor": 4
}
